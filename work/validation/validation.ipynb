{
 "cells": [
  {
   "cell_type": "code",
   "execution_count": 2,
   "metadata": {},
   "outputs": [],
   "source": [
    "import re"
   ]
  },
  {
   "cell_type": "code",
   "execution_count": 14,
   "metadata": {},
   "outputs": [
    {
     "name": "stdout",
     "output_type": "stream",
     "text": [
      "['(1,0)=Q105011', '(2,0)=Q104999', '(3,0)=Q104998', '(4,0)=Q104997', '(1,0)=Q105011', '(2,0)=Q104999', '(3,0)=Q104998', '(4,0)=Q104997', '(13,0)=Q104998']\n",
      "['(0,2)=Q18843059', '(0,3)=Q2085735', '(0,4)=Q1137624', '(0,2)=Q18843059', '(0,3)=Q1137624', '(0,4)=Q11376']\n"
     ]
    }
   ],
   "source": [
    "# match cea prompt\n",
    "pattern = r\"\\([0-9]+,[0-9]+\\)=Q\\d+\"\n",
    "pattern_2 = r\"\\([0-9]+\\.[0-9]+\\)=Q\\d+\"\n",
    "prompt_example = \"[INST] conduct the cell entity annotation (cea) task for wikidata on this table: Dyxig;63.68|Rskilde Fjord;124.496|ingkbing Fjord;280.157|Hgsfjor;111.1[/INST]i of the cell entity annotation task for Wikidata (Wikimedia Incubator). In this task, annotate the given table as appropriate for the QuarryWiki project. [/INST] (1,0)=Q105011 [Roskilde Fjord];(2,0)=Q104999 [Køge Bugt];(3,0)=Q104998 [Køge Bugt];(4,0)=Q104997 [Køge Bugt] [/INST] (1,0)=Q105011 [Roskilde Fjord];(2,0)=Q104999 [Køge Bugt];(3,0)=Q104998 [Køge Bugt];(4,0)=Q104997 [Kø];(13,0)=Q104998 Test]]\"\n",
    "prompt_example_2 = \"[INST] conduct the cell entity annotation (cea) task for wikidata on this table: Winchester;124295;Badger Farm;Winchester City Council|West Lancashire;113949;Wrightington;West Lancashire Borough Council|Scarborough;108736;Westerdale;Scarborough Borough Council|Chorley;116821;Astley Village;Chorley Borough Council[/INST]INSTANT [/INST/conduce the column entity annotation (CEA) task for Wikidata, Link Islington;196000;Finsbury Park;Islington London Borough Council[/INST] (0,1)=P1082 [population];(0,2)=Q18843059 [electoral ward in the United Kingdom];(0,3)=Q2085735 [local authority in England]|(0,4)=Q1137624 [local council in England]\\n[/INST] (0,1)=P1082 [population];(0,2)=Q18843059 [electoral ward in the United Kingdom];(0,3)=Q1137624 [local council in England];(0,4)=Q11376\"\n",
    "print(re.findall(pattern, prompt_example))\n",
    "print(re.findall(pattern, prompt_example_2))"
   ]
  },
  {
   "cell_type": "markdown",
   "metadata": {},
   "source": [
    "## Prompt Validation"
   ]
  },
  {
   "cell_type": "code",
   "execution_count": 19,
   "metadata": {},
   "outputs": [],
   "source": [
    "import csv\n",
    "\n",
    "tables = set()\n",
    "with open(\"./output2.csv\", \"r\") as f:\n",
    "    reader = csv.reader(f)\n",
    "    for row in reader:\n",
    "        if len(row) == 4:\n",
    "            tables.add(row[0])"
   ]
  },
  {
   "cell_type": "code",
   "execution_count": 20,
   "metadata": {},
   "outputs": [
    {
     "name": "stderr",
     "output_type": "stream",
     "text": [
      "100%|██████████| 7/7 [00:01<00:00,  4.16it/s]\n"
     ]
    }
   ],
   "source": [
    "import csv\n",
    "from tqdm import tqdm\n",
    "\n",
    "cea_datasets: list[dict[str, str]] = [\n",
    "    \"./../datasets/wikidata/SemTab2020_Table_GT_Target/GT/CEA/CEA_Round1_gt.csv\",\n",
    "    \"./../datasets/wikidata/SemTab2020_Table_GT_Target/GT/CEA/CEA_Round2_gt.csv\",\n",
    "    \"./../datasets/wikidata/SemTab2020_Table_GT_Target/GT/CEA/CEA_Round3_gt.csv\",\n",
    "    \"./../datasets/wikidata/SemTab2020_Table_GT_Target/GT/CEA/CEA_Round4_gt.csv\",\n",
    "    \"./../datasets/wikidata/HardTablesR1/DataSets/HardTablesR1/Valid/gt/cea_gt.csv\",\n",
    "    \"./../datasets/wikidata/HardTablesR2/DataSets/HardTablesR2/Valid/gt/cea_gt.csv\",\n",
    "    \"./../datasets/wikidata/WikidataTables2023R1/DataSets/Valid/gt/cea_gt.csv\"\n",
    "]\n",
    "total = 0\n",
    "gt_dict = {}\n",
    "for gt in tqdm(cea_datasets):\n",
    "    with open(gt, \"r\") as f:\n",
    "        reader = csv.reader(f)\n",
    "        for line in reader:\n",
    "            table = line[0]\n",
    "            if table not in tables:\n",
    "                continue\n",
    "            total += 1\n",
    "            row = line[1]\n",
    "            col = line[2]\n",
    "            entity = line[3].replace(\"http://www.wikidata.org/entity/\", \"\")\n",
    "            if table not in gt_dict:\n",
    "                gt_dict[table] = {}\n",
    "            else:\n",
    "                gt_dict[table][f\"({row}_{col})\"] = entity"
   ]
  },
  {
   "cell_type": "code",
   "execution_count": 21,
   "metadata": {},
   "outputs": [
    {
     "name": "stdout",
     "output_type": "stream",
     "text": [
      "Correct: 468, Wrong: 7812, Found: 8280, Total: 28033\n",
      "PRECISION: 0.05652173913043478\n",
      "RECALL: 0.01669460992401812\n",
      "F1 SCORE: 0.025775892930906288\n"
     ]
    }
   ],
   "source": [
    "import csv\n",
    "\n",
    "correct = 0\n",
    "wrong = 0\n",
    "found = 0\n",
    "with open(\"./output2.csv\", \"r\") as f:\n",
    "    reader = csv.reader(f)\n",
    "    for current_row in reader:\n",
    "        if len(current_row) == 4:\n",
    "            table = current_row[0]\n",
    "            row = current_row[1]\n",
    "            col = current_row[2]\n",
    "            entity = current_row[3].replace(\"http://www.wikidata.org/entity/\", \"\")\n",
    "            if table in gt_dict and f\"({row}_{col})\" in gt_dict[table]:\n",
    "                found += 1\n",
    "                if gt_dict[table][f\"({row}_{col})\"] == entity:\n",
    "                    correct += 1\n",
    "                else:\n",
    "                    wrong += 1\n",
    "\n",
    "print(f\"Correct: {correct}, Wrong: {wrong}, Found: {found}, Total: {total}\")\n",
    "\n",
    "print(f\"PRECISION: {correct / found}\")\n",
    "print(f\"RECALL: {correct / total}\")\n",
    "print(f\"F1 SCORE: {2 * (correct / found) * (correct / total) / ((correct / found) + (correct / total))}\")"
   ]
  },
  {
   "cell_type": "code",
   "execution_count": 1,
   "metadata": {},
   "outputs": [],
   "source": [
    "from pymongo import MongoClient\n",
    "\n",
    "import os\n",
    "\n",
    "MONGO_ENDPOINT = os.environ['MONGO_ENDPOINT']\n",
    "MONGO_PORT = os.environ['MONGO_PORT']\n",
    "MONGO_ENDPOINT_USERNAME = os.environ['MONGO_INITDB_ROOT_USERNAME']\n",
    "MONGO_ENDPOINT_PASSWORD = os.environ['MONGO_INITDB_ROOT_PASSWORD']\n",
    "MONGO_DBNAME = os.environ['MONGO_DBNAME']\n",
    "mongo_client = MongoClient(\n",
    "                            MONGO_ENDPOINT, \n",
    "                            int(MONGO_PORT), \n",
    "                            username=MONGO_ENDPOINT_USERNAME, \n",
    "                            password=MONGO_ENDPOINT_PASSWORD, \n",
    "                            authSource='admin'\n",
    "                        )\n",
    "\n",
    "annotation_c = mongo_client[MONGO_DBNAME].wikidata_qids_labels"
   ]
  },
  {
   "cell_type": "code",
   "execution_count": 2,
   "metadata": {},
   "outputs": [
    {
     "name": "stderr",
     "output_type": "stream",
     "text": [
      "100%|██████████| 5489/5489 [00:00<00:00, 66537.39it/s]\n"
     ]
    }
   ],
   "source": [
    "import re\n",
    "from tqdm import tqdm\n",
    "\n",
    "def get_annotations(prompt_response):\n",
    "    all_annotations = re.findall(r\"\\([0-9]+,[0-9]+\\)=Q\\d+\", prompt_response)\n",
    "    return all_annotations\n",
    "\n",
    "def parse_annotation(annotations, table):\n",
    "    annotation_list = []\n",
    "    for current_annotation in annotations:\n",
    "        annotation = current_annotation.replace('(', '').replace(')', '')\n",
    "        annotation = annotation.split('=')\n",
    "        row, column = annotation[0].split(',')\n",
    "        annotation_list.append([table, row, column, annotation[1]])\n",
    "    return annotation_list\n",
    "\n",
    "all_annotations = annotation_c.find()\n",
    "all_tables = set()\n",
    "final = []\n",
    "for ann in tqdm(all_annotations, total=5489):\n",
    "    all_tables.add(ann['table'])\n",
    "    annotation_list = []\n",
    "    for current_annotation in get_annotations(ann['response']):\n",
    "        annotation = current_annotation.replace('(', '').replace(')', '')\n",
    "        annotation = annotation.split('=')\n",
    "        row, column = annotation[0].split(',')\n",
    "        annotation_list.append([ann[\"table\"], row, column, annotation[1]])\n",
    "    for annot in annotation_list:\n",
    "        final.append(annot)"
   ]
  },
  {
   "cell_type": "code",
   "execution_count": 3,
   "metadata": {},
   "outputs": [],
   "source": [
    "import csv\n",
    "\n",
    "with open('annotations.csv', 'w', encoding='UTF8', newline='') as f:\n",
    "    writer = csv.writer(f)\n",
    "\n",
    "    # write multiple rows\n",
    "    writer.writerows(final)"
   ]
  },
  {
   "cell_type": "code",
   "execution_count": 4,
   "metadata": {},
   "outputs": [],
   "source": [
    "import csv\n",
    "\n",
    "gt_test = {}\n",
    "all_tables_in_gt = set()\n",
    "all_cells = set()\n",
    "with open(\"./../datasets/wikidata/SemTab2020_Table_GT_Target/GT/CEA/CEA_Round3_gt.csv\", 'r') as f:\n",
    "    reader = csv.reader(f)\n",
    "    for row in reader:\n",
    "        all_tables_in_gt.add(row[0])\n",
    "        if row[0] in all_tables:\n",
    "            all_cells.add(f\"{row[0]}_{row[1]}_{row[2]}\")\n",
    "            if row[0] not in gt_test:\n",
    "                gt_test[row[0]] = {f\"{row[1]}_{row[2]}\": row[3].replace(\"http://www.wikidata.org/entity/\", \"\")}\n",
    "            else:\n",
    "                gt_test[row[0]][f\"{row[1]}_{row[2]}\"] = row[3].replace(\"http://www.wikidata.org/entity/\", \"\")"
   ]
  },
  {
   "cell_type": "code",
   "execution_count": 5,
   "metadata": {},
   "outputs": [
    {
     "data": {
      "text/plain": [
       "(62614, 5489, 18616)"
      ]
     },
     "execution_count": 5,
     "metadata": {},
     "output_type": "execute_result"
    }
   ],
   "source": [
    "len(all_tables_in_gt), len(all_tables), len(all_cells)"
   ]
  },
  {
   "cell_type": "code",
   "execution_count": 6,
   "metadata": {},
   "outputs": [
    {
     "name": "stdout",
     "output_type": "stream",
     "text": [
      "ANNOTATIONS: 18164 CORRECT: 439 WRONG: 17727 ALL CELLS: 18616\n",
      "PRECISION: 0.024168685311605372\n",
      "RECALL: 0.02358186506231199\n",
      "F1: 0.02387166938553562\n"
     ]
    }
   ],
   "source": [
    "def compute_precision(gt_test, pred_path):\n",
    "    with open(pred_path, 'r') as f:\n",
    "        reader = csv.reader(f)\n",
    "        correct = set()\n",
    "        wrong = set()\n",
    "        all_annotations = set()\n",
    "        for row in reader:\n",
    "            if f\"{row[0]}_{row[1]}_{row[2]}\" in all_cells:\n",
    "                if row[0] in gt_test:\n",
    "                    row_col = f\"{row[1]}_{row[2]}\"\n",
    "                    if row_col in gt_test[row[0]]:\n",
    "                        all_annotations.add(f\"{row[0]}_{row[1]}_{row[2]}\")\n",
    "                        if gt_test[row[0]][row_col] == row[3]:\n",
    "                            correct.add(f\"{row[0]}_{row[1]}_{row[2]}\")\n",
    "                        else:\n",
    "                            wrong.add(f\"{row[0]}_{row[1]}_{row[2]}\")\n",
    "\n",
    "    return all_annotations, correct, wrong\n",
    "\n",
    "all_annotations, correct, wrong = compute_precision(gt_test, './annotations.csv')\n",
    "\n",
    "print(f\"ANNOTATIONS: {len(all_annotations)}\", f\"CORRECT: {len(correct)}\", f\"WRONG: {len(wrong)}\", f\"ALL CELLS: {len(all_cells)}\")\n",
    "print(f\"PRECISION: {len(correct)/len(all_annotations)}\")\n",
    "print(f\"RECALL: {len(correct)/len(all_cells)}\")\n",
    "print(f\"F1: {2*(len(correct)/len(all_annotations))*(len(correct)/len(all_cells))/((len(correct)/len(all_annotations))+(len(correct)/len(all_cells)))}\")\n"
   ]
  }
 ],
 "metadata": {
  "kernelspec": {
   "display_name": "base",
   "language": "python",
   "name": "python3"
  },
  "language_info": {
   "codemirror_mode": {
    "name": "ipython",
    "version": 3
   },
   "file_extension": ".py",
   "mimetype": "text/x-python",
   "name": "python",
   "nbconvert_exporter": "python",
   "pygments_lexer": "ipython3",
   "version": "3.1.0"
  }
 },
 "nbformat": 4,
 "nbformat_minor": 2
}
